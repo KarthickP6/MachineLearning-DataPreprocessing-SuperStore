{
 "cells": [
  {
   "cell_type": "markdown",
   "metadata": {},
   "source": [
    "# Time Series Analysis on Super Store Sales Dataset\n",
    "\n"
   ]
  },
  {
   "cell_type": "markdown",
   "metadata": {},
   "source": [
    "**Read the Instructions and code for the following**\n",
    "\n",
    "**Run each cell using run button or press 'Shift+Enter'**"
   ]
  },
  {
   "cell_type": "markdown",
   "metadata": {},
   "source": [
    "**Import Libraries needed for Analysis**"
   ]
  },
  {
   "cell_type": "code",
   "execution_count": null,
   "metadata": {},
   "outputs": [],
   "source": [
    "import pandas as pd\n",
    "import numpy as np"
   ]
  },
  {
   "cell_type": "markdown",
   "metadata": {},
   "source": [
    "**Read Super Store Sales Dataset**"
   ]
  },
  {
   "cell_type": "code",
   "execution_count": null,
   "metadata": {},
   "outputs": [],
   "source": [
    "data=pd.read_csv('Superstoresales.csv')"
   ]
  },
  {
   "cell_type": "code",
   "execution_count": null,
   "metadata": {},
   "outputs": [],
   "source": [
    "data"
   ]
  },
  {
   "cell_type": "markdown",
   "metadata": {},
   "source": [
    "**Convert the columns Order date and Ship Date from type str to type datetime**"
   ]
  },
  {
   "cell_type": "code",
   "execution_count": null,
   "metadata": {},
   "outputs": [],
   "source": [
    "data['Order Date']=pd.to_datetime(data['Order Date'],format='%d/%m/%Y')\n",
    "data['Ship Date']=pd.to_datetime(data['Ship Date'],format='%d/%m/%Y')"
   ]
  },
  {
   "cell_type": "markdown",
   "metadata": {},
   "source": [
    "**1. Write the code to return the count of orders placed in the year 2016.**\n",
    "\n",
    "\n",
    "**Instructions**\n",
    "- Return **Interger**\n",
    "- Use Order Date\n",
    "- Store it in variable **q1**"
   ]
  },
  {
   "cell_type": "code",
   "execution_count": null,
   "metadata": {},
   "outputs": [],
   "source": [
    "#Enter code below\n",
    "\n",
    "q1=\n",
    "#End\n",
    "print(q1)"
   ]
  },
  {
   "cell_type": "markdown",
   "metadata": {},
   "source": [
    "**2. Function `find_product`**\n",
    "\n",
    "**Instructions**\n",
    "\n",
    "   - Complete the function `find_product` that takes four parameters - **dataframe,state,year and month**\n",
    "   - Function Should return the **Category** which had the most number orders in that **State** during the specified **Month and Year**\n",
    "   - Return as **String**\n",
    "   - Use Groupby\n",
    "   - Use Column Order Date\n"
   ]
  },
  {
   "cell_type": "code",
   "execution_count": null,
   "metadata": {},
   "outputs": [],
   "source": [
    "def find_product(dataframe,state,year,month):\n",
    "    #Enter code below\n",
    " \n",
    "\n",
    "    return orders_category\n",
    "    #End\n",
    "\n",
    "q2=[find_product(data,'Florida',2017,3),find_product(data,'Ohio',2017,5)]\n",
    "print(q2)"
   ]
  },
  {
   "cell_type": "markdown",
   "metadata": {},
   "source": [
    "**3. Write the code to create a pivot table that contains average sales of each month in each year.**\n",
    "\n",
    "**Instructions**\n",
    "\n",
    "- Return as **Dataframe**\n",
    "- Store it in variable **q3**\n",
    "- Index should be **Month** and columns must be **Year**\n",
    "- Month and Year should be in ascending order\n",
    "- Hint use `pd.pivot_table`\n",
    "\n",
    "**Sample Output**\n",
    "\n",
    "<img src=\"Sample/sample.png\" >"
   ]
  },
  {
   "cell_type": "code",
   "execution_count": null,
   "metadata": {},
   "outputs": [],
   "source": [
    "#Enter code below\n",
    "\n",
    "q3=\n",
    "#End\n",
    "print(q3)"
   ]
  },
  {
   "cell_type": "markdown",
   "metadata": {},
   "source": [
    "**4. Write the code to return the name of each region and the count of products shipped to that region as Dictionary.**\n",
    "\n",
    "**Instructions**\n",
    "\n",
    "- Return as **Dictionary**\n",
    "- Regions should be in ascending order\n",
    "- Example `{Region1:Count,Region2:Count}`\n",
    "- Store it in variable **q4**"
   ]
  },
  {
   "cell_type": "code",
   "execution_count": null,
   "metadata": {},
   "outputs": [],
   "source": [
    "#Enter code below\n",
    "\n",
    "q4=\n",
    "#End\n",
    "print(q4)"
   ]
  },
  {
   "cell_type": "markdown",
   "metadata": {},
   "source": [
    "**5. Write the code to return the different segments in the dataset.**\n",
    "\n",
    "**Instructions**\n",
    "\n",
    "- Return as **list**\n",
    "- Return values in ascending order\n",
    "- Store it in variable **q5**"
   ]
  },
  {
   "cell_type": "code",
   "execution_count": null,
   "metadata": {},
   "outputs": [],
   "source": [
    "#Enter code below\n",
    "q5=\n",
    "#End\n",
    "print(q5)"
   ]
  },
  {
   "cell_type": "markdown",
   "metadata": {},
   "source": [
    "**6. Write the code to return the name of top most selling product in each category based on sales.**\n",
    "\n",
    "**Instructions**\n",
    "\n",
    "- Return as **Dictionary**\n",
    "- Categories should be in ascending order\n",
    "- Example `{Category1:Name of product,Category2:Name of product}`\n",
    "- Store it in variable **q6**"
   ]
  },
  {
   "cell_type": "code",
   "execution_count": null,
   "metadata": {},
   "outputs": [],
   "source": [
    "#Enter code below\n",
    "\n",
    "\n",
    "q6=\n",
    "#End\n",
    "print(q6)"
   ]
  },
  {
   "cell_type": "markdown",
   "metadata": {},
   "source": [
    "**7. Write the code to return the name of customer in corporate segment who made the most number of orders in the year 2017.**\n",
    "\n",
    "**Instructions**\n",
    "\n",
    "- Return as **String**\n",
    "- Use groupby\n",
    "- Use Order ID\n",
    "- Store it in variable **q7**"
   ]
  },
  {
   "cell_type": "code",
   "execution_count": null,
   "metadata": {},
   "outputs": [],
   "source": [
    "#Enter code below\n",
    "\n",
    "q7=\n",
    "#End\n",
    "print(q7)"
   ]
  },
  {
   "cell_type": "markdown",
   "metadata": {},
   "source": [
    "**8. Write the code to return the total sales of all the regions in each year.**\n",
    "\n",
    "**Instructions**\n",
    "\n",
    "- Return as **Dictionary** inside another **Dictionary(Nested Dictionary)**\n",
    "- **Year** and **Region** should be in ascending order\n",
    "- Total sales in each region to be rounded off by two decimal places\n",
    "- Example : `{Year1:{Region1:Total sales,Region2:Total Sales},Year2:{Region1:Total Sales,Region2:Total Sales}}`\n",
    "- Store it in variable **q8**"
   ]
  },
  {
   "cell_type": "code",
   "execution_count": null,
   "metadata": {},
   "outputs": [],
   "source": [
    "#Enter code below\n",
    "\n",
    "\n",
    "q8=\n",
    "#End\n",
    "print(q8)"
   ]
  },
  {
   "cell_type": "code",
   "execution_count": null,
   "metadata": {},
   "outputs": [],
   "source": [
    "#Execute the cell to save your answers.Donot delete the cell.\n",
    "\n",
    "import pickle\n",
    "\n",
    "def pick(fname,fil):\n",
    "    with open(fname,'wb') as f:\n",
    "        pickle.dump(fil,f)\n",
    "        \n",
    "        \n",
    "try:\n",
    "    pick('f1.pickle',q1)\n",
    "except:\n",
    "    print('Q1 Error')\n",
    "\n",
    "try:\n",
    "    pick('f2.pickle',q2)\n",
    "except:\n",
    "    print('Q2 Error')\n",
    "    \n",
    "try:\n",
    "    pick('f3.pickle',q3)\n",
    "except:\n",
    "    print('Q3 Error')\n",
    "    \n",
    "try:\n",
    "    pick('f4.pickle',q4)\n",
    "except:\n",
    "    print('Q4 Error')\n",
    "    \n",
    "    \n",
    "try:\n",
    "    pick('f5.pickle',q5)\n",
    "except:\n",
    "    print('Q5 Error')\n",
    "    \n",
    "try:\n",
    "    pick('f6.pickle',q6)\n",
    "except:\n",
    "    print('Q6 Error')\n",
    "    \n",
    "try:\n",
    "    pick('f7.pickle',q7)\n",
    "except:\n",
    "    print('Q7 Error')\n",
    "    \n",
    "try:\n",
    "    pick('f8.pickle',q8)\n",
    "except:\n",
    "    print('Q8 Error')\n",
    "\n",
    "    "
   ]
  }
 ],
 "metadata": {
  "kernelspec": {
   "display_name": "Python 3",
   "language": "python",
   "name": "python3"
  },
  "language_info": {
   "codemirror_mode": {
    "name": "ipython",
    "version": 3
   },
   "file_extension": ".py",
   "mimetype": "text/x-python",
   "name": "python",
   "nbconvert_exporter": "python",
   "pygments_lexer": "ipython3",
   "version": "3.8.5"
  }
 },
 "nbformat": 4,
 "nbformat_minor": 4
}
